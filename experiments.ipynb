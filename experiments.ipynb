{
 "cells": [
  {
   "cell_type": "markdown",
   "metadata": {},
   "source": [
    "# TASK:\n",
    "## given a satellite image (x-band SAR):\n",
    "## A) Show the image.\n",
    "## B) Denoise the image aplying spatial filters.\n",
    "## C) Apply false color for enhanced contrast.\n"
   ]
  },
  {
   "cell_type": "code",
   "execution_count": null,
   "metadata": {},
   "outputs": [],
   "source": [
    "'''imports'''\n",
    "import numpy as np\n",
    "import cv2\n",
    "from matplotlib import pyplot as plt\n",
    "from matplotlib import cm\n",
    "import cmapy\n",
    "\n",
    "image_path = 'ICEYE_GRD_SLH_30180_20200603T035624a.tif'"
   ]
  },
  {
   "cell_type": "markdown",
   "metadata": {},
   "source": [
    "## Defining functions.\n"
   ]
  },
  {
   "cell_type": "code",
   "execution_count": null,
   "metadata": {},
   "outputs": [],
   "source": [
    "def read_image(path):\n",
    "    '''read the image from path and prints information relative to the image.'''\n",
    "    image = cv2.imread(path, -1)\n",
    "    print(\"ORIGINAL IMAGE \\n -Shape: \", image.shape, \"\\n -Data type: \", image.dtype, \"\\n -Value range: \", (image.min(), image.max()))\n",
    "    return image\n",
    "\n",
    "def heat_equation_convolution(image, t, c):\n",
    "    '''apply the 2D convolution given by the heat equation (explained below):\n",
    "        PARAMETERS:\n",
    "            -t: time (discretized, number of steps to perform)\n",
    "            -c: Spreading weight (heat spread \"speed\")'''\n",
    "    \n",
    "    Laplacian = np.array([[0, -1, 0],\n",
    "                        [-1, 4, -1],\n",
    "                         [0, -1, 0]])\n",
    "    A = image.copy()\n",
    "    burnt = np.zeros_like(image)\n",
    "    for i in range(1,t):\n",
    "        burnt = A - c*cv2.filter2D(A,-1, Laplacian)\n",
    "        A = burnt\n",
    "    return A.astype(np.uint16)\n",
    "\n"
   ]
  },
  {
   "cell_type": "markdown",
   "metadata": {},
   "source": [
    "## Interpreting the data"
   ]
  },
  {
   "cell_type": "code",
   "execution_count": null,
   "metadata": {},
   "outputs": [],
   "source": [
    "image = read_image(image_path)"
   ]
  },
  {
   "cell_type": "code",
   "execution_count": null,
   "metadata": {},
   "outputs": [],
   "source": [
    "'''showing the original image... NOISY!'''\n",
    "img = image*255/65535 #normalizing to 0-1\n",
    "plt.figure(figsize = (20,20))\n",
    "plt.imshow(img, cmap = 'gray')"
   ]
  },
  {
   "cell_type": "markdown",
   "metadata": {},
   "source": [
    "we see as expected that the image is quite noisy, mostly salt-an-pepper noise."
   ]
  },
  {
   "cell_type": "markdown",
   "metadata": {},
   "source": [
    "## Typical filters: median and gaussian blur"
   ]
  },
  {
   "cell_type": "code",
   "execution_count": null,
   "metadata": {},
   "outputs": [],
   "source": [
    "'''median blur (baseline)'''\n",
    "median_blur = cv2.medianBlur(image, 5) #normalized\n",
    "print(median_blur.max())"
   ]
  },
  {
   "cell_type": "code",
   "execution_count": null,
   "metadata": {},
   "outputs": [],
   "source": [
    "'''we can see that median blur greatly reduces \"salt and pepper\" noise'''\n",
    "\n",
    "f = plt.figure(figsize = (50,40))\n",
    "f.add_subplot(1,2,1)\n",
    "plt.imshow(image*255/image.max(), cmap = 'gray')\n",
    "f.add_subplot(1,2,2)\n",
    "plt.imshow(median_blur*255/median_blur.max(), cmap = 'gray')\n",
    "plt.show(block=True)"
   ]
  },
  {
   "cell_type": "markdown",
   "metadata": {},
   "source": [
    "Original image vs median filter"
   ]
  },
  {
   "cell_type": "code",
   "execution_count": null,
   "metadata": {},
   "outputs": [],
   "source": [
    "'''now the same with gaussian blur'''\n",
    "gaussian_blur = cv2.GaussianBlur(image, ksize=(15,15),sigmaX=0)"
   ]
  },
  {
   "cell_type": "code",
   "execution_count": null,
   "metadata": {},
   "outputs": [],
   "source": [
    "'''we see that the nosie removal is similar, let's compare side by side'''\n",
    "f = plt.figure(figsize = (50,40))\n",
    "f.add_subplot(1,2,1)\n",
    "plt.imshow(image*255/image.max(), cmap = 'gray')\n",
    "f.add_subplot(1,2,2)\n",
    "plt.imshow(gaussian_blur*255/gaussian_blur.max(), cmap = 'gray')\n",
    "plt.show(block=True)"
   ]
  },
  {
   "cell_type": "markdown",
   "metadata": {},
   "source": [
    "original image vs gaussian blur"
   ]
  },
  {
   "cell_type": "code",
   "execution_count": null,
   "metadata": {},
   "outputs": [],
   "source": [
    "f = plt.figure(figsize = (40,20))\n",
    "f.add_subplot(1,2,1)\n",
    "plt.imshow(median_blur*255/median_blur.max(), cmap = 'gray')\n",
    "f.add_subplot(1,2,2)\n",
    "plt.imshow(gaussian_blur*255/gaussian_blur.max(), cmap = 'gray')\n",
    "plt.show(block=True)\n",
    "'''gaussian blur seems to keep more information'''"
   ]
  },
  {
   "cell_type": "markdown",
   "metadata": {},
   "source": [
    "### median filter / gaussian blur\n",
    "we see that gaussian blur does better than median blur, since we can apply a bigger kernel without blurring the edges of the image."
   ]
  },
  {
   "cell_type": "markdown",
   "metadata": {},
   "source": [
    "## Heat equation:\n",
    "intuition: pixel value -> temperature (energy). Aplying the heat equation below we can \"spread\" the pixel value among its neighbours. \n",
    "$$\\frac{\\delta u}{\\delta t} = c \\nabla^2 u$$\n",
    "in the discrete 2D case, after expansion at a discrete timestep k:\n",
    "$$u^{k+1}_{i,j} = u^{k}_{i,j} + c\\left( u^{k}_{i+1,j} + u^{k}_{i-1,j} + u^{k}_{i,j+1} + u^{k}_{i,j-1}-4u^{k}_{i,j}\\right)$$\n",
    "\n",
    "effectively this makes an analogy between pixel values and temperature, the higher the value, the higher the temperature, and uses the heat equation to interact with its neighbours,\n",
    "which is exactly the function I defined above, let's see how it does:\n",
    "(convergence condition: $c < \\frac{1}{4}$)"
   ]
  },
  {
   "cell_type": "markdown",
   "metadata": {},
   "source": [
    "Because I only have 8gb ram this keeps crashing every 2 plots or so, I'm copy-pasting functions and imports below for convenience."
   ]
  },
  {
   "cell_type": "code",
   "execution_count": null,
   "metadata": {},
   "outputs": [],
   "source": [
    "'''imports'''\n",
    "import numpy as np\n",
    "import cv2\n",
    "from matplotlib import pyplot as plt\n",
    "from matplotlib import cm\n",
    "import cmapy #library to use matplotlib colormaps in opencv\n",
    "\n",
    "image_path = 'ICEYE_GRD_SLH_30180_20200603T035624a.tif'\n",
    "\n",
    "def read_image(path):\n",
    "    image = cv2.imread(path, -1)\n",
    "    print(\"ORIGINAL IMAGE \\n -Shape: \", image.shape, \"\\n -Data type: \", image.dtype, \"\\n -Value range: \", (image.min(), image.max()))\n",
    "    return image\n",
    "\n",
    "def heat_equation_convolution(image, t, c):\n",
    "    Laplacian = np.array([[0, -1, 0],\n",
    "                        [-1, 4, -1],\n",
    "                         [0, -1, 0]])\n",
    "    A = image.copy()\n",
    "    burnt = np.zeros_like(image)\n",
    "    for i in range(t):\n",
    "        burnt = A - c*cv2.filter2D(A,-1, Laplacian)\n",
    "        A = burnt\n",
    "    return A.astype(np.uint16)\n",
    "\n",
    "image = read_image(image_path)"
   ]
  },
  {
   "cell_type": "code",
   "execution_count": null,
   "metadata": {},
   "outputs": [],
   "source": [
    "#burnt = heat_equation_convolution(image,100, .15)\n",
    "burnt_halftime = heat_equation_convolution(image, 50, .15)\n",
    "burnt = heat_equation_convolution(image, 50, .09)\n",
    "print(burnt_halftime.max())\n",
    "#burnt2 = burnt.astype(np.uint16)"
   ]
  },
  {
   "cell_type": "code",
   "execution_count": null,
   "metadata": {},
   "outputs": [],
   "source": [
    "f = plt.figure(figsize = (40,20))\n",
    "f.add_subplot(1,2,1)\n",
    "plt.imshow(image*255/image.max(), cmap = 'gray')\n",
    "f.add_subplot(1,2,2)\n",
    "plt.imshow(burnt*255/burnt.max(), cmap = 'gray')\n",
    "plt.show(block=True)\n"
   ]
  },
  {
   "cell_type": "markdown",
   "metadata": {},
   "source": [
    "### original image / heat equation denoising\n",
    "we see that denoising is very good in this case, conserving edges quite well."
   ]
  },
  {
   "cell_type": "code",
   "execution_count": null,
   "metadata": {},
   "outputs": [],
   "source": [
    "'''now comparing with gaussian_blur'''\n",
    "f = plt.figure(figsize = (40,20))\n",
    "f.add_subplot(1,2,1)\n",
    "plt.imshow(burnt_halftime*255/burnt_halftime.max(), cmap = 'gray')\n",
    "f.add_subplot(1,2,2)\n",
    "plt.imshow(gaussian_blur*255/gaussian_blur.max(), cmap = 'gray')\n",
    "plt.show(block=True)\n"
   ]
  },
  {
   "cell_type": "markdown",
   "metadata": {},
   "source": [
    "### heat equation denoising / gaussian blur\n",
    "heat equation seems to do better."
   ]
  },
  {
   "cell_type": "code",
   "execution_count": null,
   "metadata": {},
   "outputs": [],
   "source": [
    "'''comparing denoised image vs original image -> wow! it's hard to take out more noise without blurring the image too much, but it's a quite good result'''\n",
    "burnt_color = cv2.applyColorMap((burnt_halftime).astype(np.uint8), cmapy.cmap('CMRmap', rgb_order = True))\n",
    "image_color = cv2.applyColorMap(image.astype(np.uint8), cmapy.cmap('CMRmap', rgb_order = True))\n",
    "f = plt.figure(figsize = (40,20))\n",
    "f.add_subplot(1,2,1)\n",
    "plt.imshow(burnt_color)\n",
    "f.add_subplot(1,2,2)\n",
    "plt.imshow(gaussian_color)\n",
    "plt.show(block=True)"
   ]
  },
  {
   "cell_type": "markdown",
   "metadata": {},
   "source": [
    "here we see the power of this denoising technique, comparison between the original image and the heat-equation method above (in colormap)."
   ]
  },
  {
   "cell_type": "code",
   "execution_count": null,
   "metadata": {},
   "outputs": [],
   "source": [
    "cv2.imwrite('HEAT+Color.tif', im_color)"
   ]
  },
  {
   "cell_type": "code",
   "execution_count": null,
   "metadata": {},
   "outputs": [],
   "source": [
    "f = plt.figure(figsize = (40,20))\n",
    "f.add_subplot(1,2,1)\n",
    "plt.imshow(burnt_halftime*255/burnt_halftime.max(), cmap = 'gray')\n",
    "f.add_subplot(1,2,2)\n",
    "plt.imshow(burnt*255/burnt.max(), cmap = 'gray')\n",
    "plt.show(block=True)"
   ]
  },
  {
   "cell_type": "markdown",
   "metadata": {},
   "source": [
    "## Bilateral filters\n",
    "copy-pasting again for convenience:"
   ]
  },
  {
   "cell_type": "code",
   "execution_count": null,
   "metadata": {},
   "outputs": [],
   "source": [
    "'''imports'''\n",
    "import numpy as np\n",
    "import cv2\n",
    "from matplotlib import pyplot as plt\n",
    "from matplotlib import cm\n",
    "import cmapy #library to use matplotlib colormaps in opencv\n",
    "\n",
    "image_path = 'ICEYE_GRD_SLH_30180_20200603T035624a.tif'\n",
    "\n",
    "def read_image(path):\n",
    "    image = cv2.imread(path, -1)\n",
    "    print(\"ORIGINAL IMAGE \\n -Shape: \", image.shape, \"\\n -Data type: \", image.dtype, \"\\n -Value range: \", (image.min(), image.max()))\n",
    "    return image\n",
    "\n",
    "def heat_equation_convolution(image, t, c):\n",
    "    Laplacian = np.array([[0, -1, 0],\n",
    "                        [-1, 4, -1],\n",
    "                         [0, -1, 0]])\n",
    "    A = image.copy()\n",
    "    burnt = np.zeros_like(image)\n",
    "    for i in range(t):\n",
    "        burnt = A - c*cv2.filter2D(A,-1, Laplacian)\n",
    "        A = burnt\n",
    "    return A.astype(np.uint16)\n",
    "\n",
    "image = read_image(image_path)"
   ]
  },
  {
   "cell_type": "code",
   "execution_count": null,
   "metadata": {},
   "outputs": [],
   "source": [
    "bilateral = cv2.bilateralFilter(image.astype(np.uint8),17, 300, 1000)\n",
    "\n",
    "heat = heat_equation_convolution(image, 50, .15)\n",
    "\n",
    "\n",
    "heat_color = cv2.applyColorMap((heat).astype(np.uint8), cmapy.cmap('CMRmap', rgb_order = True))\n",
    "bilateral_color = cv2.applyColorMap(bilateral.astype(np.uint8), cmapy.cmap('CMRmap', rgb_order = True))\n",
    "\n",
    "f=plt.figure(figsize = (40,20))\n",
    "f.add_subplot(1,2,1)\n",
    "plt.imshow(heat_color)\n",
    "f.add_subplot(1,2,2)\n",
    "plt.imshow(bilateral_color)\n",
    "plt.show()"
   ]
  },
  {
   "cell_type": "markdown",
   "metadata": {},
   "source": [
    "Bilateral filter is better at conserving information and smoothes very bright pixels better"
   ]
  },
  {
   "cell_type": "code",
   "execution_count": null,
   "metadata": {},
   "outputs": [],
   "source": [
    "bilateral = cv2.bilateralFilter(image.astype(np.uint8),17, 300, 1000)\n",
    "bilateral_color = cv2.applyColorMap(bilateral.astype(np.uint8), cmapy.cmap('CMRmap', rgb_order = False))\n",
    "cv2.imwrite('bilateral_x1_17_color.tif', bilateral_color)"
   ]
  },
  {
   "cell_type": "markdown",
   "metadata": {},
   "source": [
    "# CONCLUSIONS:\n",
    "### -Median and gaussian blur both do decently, but seem to be outperformed by the heat equation method and the bilateral filter.\n",
    "### -Bilateral filter and heat equation convolution have similar noise reduction capabilities (being bilateral filter somewhat better, it outperforms other filters by applying spatial filter and a color (or frequency) filter, which helps it to prevent blurring the edges).\n",
    "### -I found the heat equation method most interesting due to its physical interpretation and ease of visualization (kind of like the brightest pixel values melt to its neighbours), but I'm going to use the bilateral filter for the task due to its bigger signal to noise ratio."
   ]
  },
  {
   "cell_type": "markdown",
   "metadata": {},
   "source": [
    "I will be posting the main method and upload this too for consulting."
   ]
  },
  {
   "cell_type": "markdown",
   "metadata": {},
   "source": [
    "### What I really would have liked to do is to train an autoencoder on images like this to train in an unsupervised manner to perform denoising task. But it's too computationally expensive and you need a big dataset for it to learn properly.\n"
   ]
  },
  {
   "cell_type": "code",
   "execution_count": null,
   "metadata": {},
   "outputs": [],
   "source": []
  }
 ],
 "metadata": {
  "kernelspec": {
   "display_name": "Python 3",
   "language": "python",
   "name": "python3"
  },
  "language_info": {
   "codemirror_mode": {
    "name": "ipython",
    "version": 3
   },
   "file_extension": ".py",
   "mimetype": "text/x-python",
   "name": "python",
   "nbconvert_exporter": "python",
   "pygments_lexer": "ipython3",
   "version": "3.7.7"
  }
 },
 "nbformat": 4,
 "nbformat_minor": 4
}
